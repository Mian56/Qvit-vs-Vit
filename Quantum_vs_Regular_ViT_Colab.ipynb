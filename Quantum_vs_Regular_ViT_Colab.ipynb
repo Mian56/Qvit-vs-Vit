{
  "cells": [
    {
      "cell_type": "markdown",
      "metadata": {
        "id": "hXcsiwSG-ykG"
      },
      "source": [
        "# Vision Transformer vs Quantum-Inspired Vision Transformer\n",
        "This Colab notebook compares a small regular ViT and a simulated quantum-inspired ViT using PennyLane and PyTorch on a subset of CIFAR-10."
      ]
    },
    {
      "cell_type": "code",
      "execution_count": 4,
      "metadata": {
        "colab": {
          "base_uri": "https://localhost:8080/"
        },
        "id": "TfL1QYYZ-ykH",
        "outputId": "9d3735d6-01ae-4217-a0b8-474a4b1370e5"
      },
      "outputs": [
        {
          "output_type": "stream",
          "name": "stdout",
          "text": [
            "\u001b[2K     \u001b[90m━━━━━━━━━━━━━━━━━━━━━━━━━━━━━━━━━━━━━━━━\u001b[0m \u001b[32m56.1/56.1 kB\u001b[0m \u001b[31m2.6 MB/s\u001b[0m eta \u001b[36m0:00:00\u001b[0m\n",
            "\u001b[2K   \u001b[90m━━━━━━━━━━━━━━━━━━━━━━━━━━━━━━━━━━━━━━━━\u001b[0m \u001b[32m2.3/2.3 MB\u001b[0m \u001b[31m30.2 MB/s\u001b[0m eta \u001b[36m0:00:00\u001b[0m\n",
            "\u001b[2K   \u001b[90m━━━━━━━━━━━━━━━━━━━━━━━━━━━━━━━━━━━━━━━━\u001b[0m \u001b[32m363.4/363.4 MB\u001b[0m \u001b[31m1.5 MB/s\u001b[0m eta \u001b[36m0:00:00\u001b[0m\n",
            "\u001b[2K   \u001b[90m━━━━━━━━━━━━━━━━━━━━━━━━━━━━━━━━━━━━━━━━\u001b[0m \u001b[32m13.8/13.8 MB\u001b[0m \u001b[31m42.9 MB/s\u001b[0m eta \u001b[36m0:00:00\u001b[0m\n",
            "\u001b[2K   \u001b[90m━━━━━━━━━━━━━━━━━━━━━━━━━━━━━━━━━━━━━━━━\u001b[0m \u001b[32m24.6/24.6 MB\u001b[0m \u001b[31m54.2 MB/s\u001b[0m eta \u001b[36m0:00:00\u001b[0m\n",
            "\u001b[2K   \u001b[90m━━━━━━━━━━━━━━━━━━━━━━━━━━━━━━━━━━━━━━━━\u001b[0m \u001b[32m883.7/883.7 kB\u001b[0m \u001b[31m21.4 MB/s\u001b[0m eta \u001b[36m0:00:00\u001b[0m\n",
            "\u001b[2K   \u001b[90m━━━━━━━━━━━━━━━━━━━━━━━━━━━━━━━━━━━━━━━━\u001b[0m \u001b[32m664.8/664.8 MB\u001b[0m \u001b[31m3.2 MB/s\u001b[0m eta \u001b[36m0:00:00\u001b[0m\n",
            "\u001b[2K   \u001b[90m━━━━━━━━━━━━━━━━━━━━━━━━━━━━━━━━━━━━━━━━\u001b[0m \u001b[32m211.5/211.5 MB\u001b[0m \u001b[31m6.9 MB/s\u001b[0m eta \u001b[36m0:00:00\u001b[0m\n",
            "\u001b[2K   \u001b[90m━━━━━━━━━━━━━━━━━━━━━━━━━━━━━━━━━━━━━━━━\u001b[0m \u001b[32m56.3/56.3 MB\u001b[0m \u001b[31m11.7 MB/s\u001b[0m eta \u001b[36m0:00:00\u001b[0m\n",
            "\u001b[2K   \u001b[90m━━━━━━━━━━━━━━━━━━━━━━━━━━━━━━━━━━━━━━━━\u001b[0m \u001b[32m127.9/127.9 MB\u001b[0m \u001b[31m7.3 MB/s\u001b[0m eta \u001b[36m0:00:00\u001b[0m\n",
            "\u001b[2K   \u001b[90m━━━━━━━━━━━━━━━━━━━━━━━━━━━━━━━━━━━━━━━━\u001b[0m \u001b[32m207.5/207.5 MB\u001b[0m \u001b[31m6.2 MB/s\u001b[0m eta \u001b[36m0:00:00\u001b[0m\n",
            "\u001b[2K   \u001b[90m━━━━━━━━━━━━━━━━━━━━━━━━━━━━━━━━━━━━━━━━\u001b[0m \u001b[32m21.1/21.1 MB\u001b[0m \u001b[31m79.7 MB/s\u001b[0m eta \u001b[36m0:00:00\u001b[0m\n",
            "\u001b[2K   \u001b[90m━━━━━━━━━━━━━━━━━━━━━━━━━━━━━━━━━━━━━━━━\u001b[0m \u001b[32m930.8/930.8 kB\u001b[0m \u001b[31m44.2 MB/s\u001b[0m eta \u001b[36m0:00:00\u001b[0m\n",
            "\u001b[2K   \u001b[90m━━━━━━━━━━━━━━━━━━━━━━━━━━━━━━━━━━━━━━━━\u001b[0m \u001b[32m2.5/2.5 MB\u001b[0m \u001b[31m29.3 MB/s\u001b[0m eta \u001b[36m0:00:00\u001b[0m\n",
            "\u001b[2K   \u001b[90m━━━━━━━━━━━━━━━━━━━━━━━━━━━━━━━━━━━━━━━━\u001b[0m \u001b[32m2.1/2.1 MB\u001b[0m \u001b[31m41.7 MB/s\u001b[0m eta \u001b[36m0:00:00\u001b[0m\n",
            "\u001b[2K   \u001b[90m━━━━━━━━━━━━━━━━━━━━━━━━━━━━━━━━━━━━━━━━\u001b[0m \u001b[32m167.9/167.9 kB\u001b[0m \u001b[31m11.2 MB/s\u001b[0m eta \u001b[36m0:00:00\u001b[0m\n",
            "\u001b[2K   \u001b[90m━━━━━━━━━━━━━━━━━━━━━━━━━━━━━━━━━━━━━━━━\u001b[0m \u001b[32m8.6/8.6 MB\u001b[0m \u001b[31m75.6 MB/s\u001b[0m eta \u001b[36m0:00:00\u001b[0m\n",
            "\u001b[?25h"
          ]
        }
      ],
      "source": [
        "#  Install required packages\n",
        "!pip install -q pennylane torchvision timm"
      ]
    },
    {
      "cell_type": "code",
      "execution_count": 5,
      "metadata": {
        "colab": {
          "base_uri": "https://localhost:8080/"
        },
        "id": "SLv2OPom-ykI",
        "outputId": "2879878a-ff41-42af-e130-58beb88f29ce"
      },
      "outputs": [
        {
          "output_type": "stream",
          "name": "stderr",
          "text": [
            "/usr/local/lib/python3.11/dist-packages/pennylane/capture/capture_operators.py:33: RuntimeWarning: PennyLane is not yet compatible with JAX versions > 0.4.28. You have version 0.5.2 installed. Please downgrade JAX to <=0.4.28 to avoid runtime errors.\n",
            "  warnings.warn(\n"
          ]
        }
      ],
      "source": [
        "#  Import libraries\n",
        "import torch\n",
        "import torch.nn as nn\n",
        "import torchvision.transforms as transforms\n",
        "import torchvision.datasets as datasets\n",
        "from torch.utils.data import DataLoader, Subset\n",
        "import pennylane as qml\n",
        "import numpy as np\n",
        "from tqdm import tqdm"
      ]
    },
    {
      "cell_type": "markdown",
      "metadata": {
        "id": "J947u08q-ykI"
      },
      "source": [
        "##  Load CIFAR-10 (small subset for fast training)"
      ]
    },
    {
      "cell_type": "code",
      "execution_count": 6,
      "metadata": {
        "colab": {
          "base_uri": "https://localhost:8080/"
        },
        "id": "8qC-1sbn-ykI",
        "outputId": "7d036aeb-b38e-4782-e177-aba20d0a2baa"
      },
      "outputs": [
        {
          "output_type": "stream",
          "name": "stderr",
          "text": [
            "100%|██████████| 170M/170M [00:01<00:00, 103MB/s]\n"
          ]
        }
      ],
      "source": [
        "transform = transforms.Compose([\n",
        "    transforms.ToTensor(),\n",
        "    transforms.Normalize((0.5,), (0.5,))\n",
        "])\n",
        "\n",
        "train_dataset = datasets.CIFAR10(root='./data', train=True, transform=transform, download=True)\n",
        "test_dataset = datasets.CIFAR10(root='./data', train=False, transform=transform)\n",
        "\n",
        "# Use a subset for speed\n",
        "train_subset = Subset(train_dataset, list(range(1000)))\n",
        "test_subset = Subset(test_dataset, list(range(200)))\n",
        "\n",
        "train_loader = DataLoader(train_subset, batch_size=32, shuffle=True)\n",
        "test_loader = DataLoader(test_subset, batch_size=32, shuffle=False)"
      ]
    },
    {
      "cell_type": "markdown",
      "metadata": {
        "id": "M_x46SzS-ykI"
      },
      "source": [
        "## Simple ViT (Tiny Custom Model)"
      ]
    },
    {
      "cell_type": "code",
      "execution_count": 52,
      "metadata": {
        "id": "7MyIdSId-ykI"
      },
      "outputs": [],
      "source": [
        "class SimpleViT(nn.Module):\n",
        "    def __init__(self):\n",
        "        super().__init__()\n",
        "        self.flatten = nn.Flatten()\n",
        "        self.fc1 = nn.Linear(3*32*32, 256)\n",
        "        self.fc2 = nn.Linear(256, 10)\n",
        "\n",
        "    def forward(self, x):\n",
        "        x = self.flatten(x)\n",
        "        x = torch.relu(self.fc1(x))\n",
        "        return self.fc2(x)"
      ]
    },
    {
      "cell_type": "markdown",
      "metadata": {
        "id": "3KJDq2c2-ykJ"
      },
      "source": [
        "##  Quantum Layer for Quantum-Inspired ViT"
      ]
    },
    {
      "cell_type": "code",
      "execution_count": 130,
      "metadata": {
        "id": "aNQ8uo1z-ykJ"
      },
      "outputs": [],
      "source": [
        "n_qubits = 12\n",
        "dev = qml.device(\"default.qubit\", wires=n_qubits)\n",
        "\n",
        "@qml.qnode(dev, interface=\"torch\")\n",
        "def quantum_circuit(inputs, weights):\n",
        "    qml.templates.AngleEmbedding(inputs, wires=range(n_qubits))\n",
        "    # qml.templates.BasicEntanglerLayers(weights, wires=range(n_qubits))\n",
        "    qml.templates.StronglyEntanglingLayers(weights, wires=range(n_qubits))\n",
        "\n",
        "    return [qml.expval(qml.PauliZ(w)) for w in range(n_qubits)]"
      ]
    },
    {
      "cell_type": "code",
      "execution_count": 136,
      "metadata": {
        "id": "l88xhP7q-ykJ"
      },
      "outputs": [],
      "source": [
        "class QuantumLayer(nn.Module):\n",
        "    def __init__(self):\n",
        "        super().__init__()\n",
        "        weight_shapes = {\"weights\": (3, 12, 3)}  # 3 layers, 4 qubits\n",
        "        self.q_layer = qml.qnn.TorchLayer(quantum_circuit, weight_shapes)\n",
        "\n",
        "    def forward(self, x):\n",
        "        return self.q_layer(x)"
      ]
    },
    {
      "cell_type": "markdown",
      "metadata": {
        "id": "TFMYfBAd-ykJ"
      },
      "source": [
        "## Hybrid Quantum ViT"
      ]
    },
    {
      "cell_type": "code",
      "execution_count": 137,
      "metadata": {
        "id": "CegQwPFJ-ykJ"
      },
      "outputs": [],
      "source": [
        "class HybridViT(nn.Module):\n",
        "    def __init__(self):\n",
        "        super().__init__()\n",
        "        self.flatten = nn.Flatten()\n",
        "        self.fc1 = nn.Linear(3*32*32, n_qubits)\n",
        "        self.q_layer = QuantumLayer()\n",
        "        self.fc2 = nn.Sequential(\n",
        "        nn.Linear(n_qubits, 64),\n",
        "        nn.ReLU(),\n",
        "        nn.Linear(64, 10)\n",
        ")\n",
        "\n",
        "\n",
        "    def forward(self, x):\n",
        "        x = self.flatten(x)\n",
        "        x = torch.tanh(self.fc1(x)) * np.pi\n",
        "        x = self.q_layer(x)\n",
        "        return self.fc2(x)"
      ]
    },
    {
      "cell_type": "code",
      "source": [
        "def train(model, loader, optimizer, criterion, device):\n",
        "    model.train()\n",
        "    total_loss = 0\n",
        "    correct = 0\n",
        "    total = 0\n",
        "\n",
        "    for images, labels in loader:\n",
        "        images, labels = images.to(device), labels.to(device)\n",
        "\n",
        "        optimizer.zero_grad()\n",
        "        outputs = model(images)\n",
        "        loss = criterion(outputs, labels)\n",
        "        loss.backward()\n",
        "        optimizer.step()\n",
        "\n",
        "        total_loss += loss.item()\n",
        "        _, predicted = outputs.max(1)\n",
        "        correct += (predicted == labels).sum().item()\n",
        "        total += labels.size(0)\n",
        "\n",
        "    accuracy = 100 * correct / total\n",
        "    return total_loss / len(loader), accuracy\n"
      ],
      "metadata": {
        "id": "S93DmR9vAa_z"
      },
      "execution_count": 138,
      "outputs": []
    },
    {
      "cell_type": "code",
      "source": [
        "def evaluate(model, loader, criterion, device):\n",
        "    model.eval()\n",
        "    total_loss = 0\n",
        "    correct = 0\n",
        "    total = 0\n",
        "\n",
        "    with torch.no_grad():\n",
        "        for images, labels in loader:\n",
        "            images, labels = images.to(device), labels.to(device)\n",
        "\n",
        "            outputs = model(images)\n",
        "            loss = criterion(outputs, labels)\n",
        "\n",
        "            total_loss += loss.item()\n",
        "            _, predicted = outputs.max(1)\n",
        "            correct += (predicted == labels).sum().item()\n",
        "            total += labels.size(0)\n",
        "\n",
        "    accuracy = 100 * correct / total\n",
        "    return total_loss / len(loader), accuracy\n"
      ],
      "metadata": {
        "id": "VNl5e6m4AdOb"
      },
      "execution_count": 139,
      "outputs": []
    },
    {
      "cell_type": "code",
      "source": [
        "device = torch.device(\"cuda\" if torch.cuda.is_available() else \"cpu\")\n",
        "num_epochs = 20\n",
        "\n",
        "# Instantiate models\n",
        "model_classic = SimpleViT().to(device)\n",
        "model_quantum = HybridViT().to(device)\n",
        "\n",
        "# Optimizers and loss\n",
        "optimizer_classic = torch.optim.Adam(model_classic.parameters(), lr=0.001)\n",
        "optimizer_quantum = torch.optim.Adam(model_quantum.parameters(), lr=0.001)\n",
        "criterion = nn.CrossEntropyLoss()\n",
        "\n",
        "classic_train_acc, quantum_train_acc = [], []\n",
        "classic_test_acc, quantum_test_acc = [], []\n",
        "\n",
        "for epoch in range(num_epochs):\n",
        "    print(f\"Epoch {epoch+1}/{num_epochs}\")\n",
        "\n",
        "    loss_c, acc_c = train(model_classic, train_loader, optimizer_classic, criterion, device)\n",
        "    val_loss_c, val_acc_c = evaluate(model_classic, test_loader, criterion, device)\n",
        "\n",
        "    loss_q, acc_q = train(model_quantum, train_loader, optimizer_quantum, criterion, device)\n",
        "    val_loss_q, val_acc_q = evaluate(model_quantum, test_loader, criterion, device)\n",
        "\n",
        "    print(f\"Classic ViT - Train Acc: {acc_c:.2f}%, Test Acc: {val_acc_c:.2f}%\")\n",
        "    print(f\"Quantum ViT - Train Acc: {acc_q:.2f}%, Test Acc: {val_acc_q:.2f}%\\n\")\n",
        "\n",
        "    classic_train_acc.append(acc_c)\n",
        "    quantum_train_acc.append(acc_q)\n",
        "    classic_test_acc.append(val_acc_c)\n",
        "    quantum_test_acc.append(val_acc_q)\n"
      ],
      "metadata": {
        "colab": {
          "base_uri": "https://localhost:8080/"
        },
        "id": "IAYmdGIAAe5D",
        "outputId": "94d7a158-60e3-48d2-8475-7bc9bafb396b"
      },
      "execution_count": 140,
      "outputs": [
        {
          "output_type": "stream",
          "name": "stdout",
          "text": [
            "Epoch 1/20\n",
            "Classic ViT - Train Acc: 27.70%, Test Acc: 28.00%\n",
            "Quantum ViT - Train Acc: 11.20%, Test Acc: 7.00%\n",
            "\n",
            "Epoch 2/20\n",
            "Classic ViT - Train Acc: 43.90%, Test Acc: 36.50%\n",
            "Quantum ViT - Train Acc: 11.10%, Test Acc: 7.00%\n",
            "\n",
            "Epoch 3/20\n",
            "Classic ViT - Train Acc: 55.80%, Test Acc: 29.50%\n",
            "Quantum ViT - Train Acc: 11.40%, Test Acc: 7.00%\n",
            "\n",
            "Epoch 4/20\n",
            "Classic ViT - Train Acc: 64.90%, Test Acc: 35.00%\n",
            "Quantum ViT - Train Acc: 11.30%, Test Acc: 7.00%\n",
            "\n",
            "Epoch 5/20\n",
            "Classic ViT - Train Acc: 75.00%, Test Acc: 33.00%\n",
            "Quantum ViT - Train Acc: 11.20%, Test Acc: 7.00%\n",
            "\n",
            "Epoch 6/20\n",
            "Classic ViT - Train Acc: 79.80%, Test Acc: 33.00%\n",
            "Quantum ViT - Train Acc: 11.30%, Test Acc: 7.00%\n",
            "\n",
            "Epoch 7/20\n",
            "Classic ViT - Train Acc: 86.80%, Test Acc: 29.50%\n",
            "Quantum ViT - Train Acc: 11.50%, Test Acc: 7.00%\n",
            "\n",
            "Epoch 8/20\n",
            "Classic ViT - Train Acc: 88.00%, Test Acc: 33.00%\n",
            "Quantum ViT - Train Acc: 11.30%, Test Acc: 7.00%\n",
            "\n",
            "Epoch 9/20\n",
            "Classic ViT - Train Acc: 91.90%, Test Acc: 32.00%\n",
            "Quantum ViT - Train Acc: 11.20%, Test Acc: 6.50%\n",
            "\n",
            "Epoch 10/20\n",
            "Classic ViT - Train Acc: 94.50%, Test Acc: 35.00%\n",
            "Quantum ViT - Train Acc: 11.70%, Test Acc: 7.00%\n",
            "\n",
            "Epoch 11/20\n",
            "Classic ViT - Train Acc: 96.70%, Test Acc: 34.00%\n",
            "Quantum ViT - Train Acc: 11.10%, Test Acc: 7.00%\n",
            "\n",
            "Epoch 12/20\n",
            "Classic ViT - Train Acc: 98.60%, Test Acc: 30.00%\n",
            "Quantum ViT - Train Acc: 11.30%, Test Acc: 6.00%\n",
            "\n",
            "Epoch 13/20\n",
            "Classic ViT - Train Acc: 99.60%, Test Acc: 32.00%\n",
            "Quantum ViT - Train Acc: 11.20%, Test Acc: 8.50%\n",
            "\n",
            "Epoch 14/20\n",
            "Classic ViT - Train Acc: 99.50%, Test Acc: 33.50%\n",
            "Quantum ViT - Train Acc: 11.30%, Test Acc: 6.00%\n",
            "\n",
            "Epoch 15/20\n",
            "Classic ViT - Train Acc: 99.40%, Test Acc: 34.50%\n",
            "Quantum ViT - Train Acc: 11.20%, Test Acc: 7.50%\n",
            "\n",
            "Epoch 16/20\n",
            "Classic ViT - Train Acc: 99.50%, Test Acc: 28.00%\n",
            "Quantum ViT - Train Acc: 10.70%, Test Acc: 7.00%\n",
            "\n",
            "Epoch 17/20\n",
            "Classic ViT - Train Acc: 99.90%, Test Acc: 31.00%\n",
            "Quantum ViT - Train Acc: 10.70%, Test Acc: 8.00%\n",
            "\n",
            "Epoch 18/20\n",
            "Classic ViT - Train Acc: 99.70%, Test Acc: 30.50%\n",
            "Quantum ViT - Train Acc: 11.50%, Test Acc: 8.00%\n",
            "\n",
            "Epoch 19/20\n",
            "Classic ViT - Train Acc: 99.90%, Test Acc: 32.50%\n",
            "Quantum ViT - Train Acc: 11.70%, Test Acc: 9.50%\n",
            "\n",
            "Epoch 20/20\n",
            "Classic ViT - Train Acc: 100.00%, Test Acc: 32.00%\n",
            "Quantum ViT - Train Acc: 11.30%, Test Acc: 8.00%\n",
            "\n"
          ]
        }
      ]
    },
    {
      "cell_type": "code",
      "source": [
        "import matplotlib.pyplot as plt\n",
        "\n",
        "plt.figure(figsize=(10, 5))\n",
        "plt.plot(classic_test_acc, label='Regular ViT', marker='o')\n",
        "plt.plot(quantum_test_acc, label='Quantum-Inspired ViT', marker='o')\n",
        "plt.title(\"Test Accuracy over Epochs\")\n",
        "plt.xlabel(\"Epoch\")\n",
        "plt.ylabel(\"Accuracy (%)\")\n",
        "plt.legend()\n",
        "plt.grid(True)\n",
        "plt.show()\n"
      ],
      "metadata": {
        "colab": {
          "base_uri": "https://localhost:8080/",
          "height": 425
        },
        "id": "rrPtFmE3AllU",
        "outputId": "91977fa8-1878-4a5e-e6b2-190fa042e588"
      },
      "execution_count": 141,
      "outputs": [
        {
          "output_type": "display_data",
          "data": {
            "text/plain": [
              "<Figure size 1000x500 with 1 Axes>"
            ],
            "image/png": "[encoded data removed]"
          },
          "metadata": {}
        }
      ]
    }
  ],
  "metadata": {
    "kernelspec": {
      "display_name": "Python 3",
      "language": "python",
      "name": "python3"
    },
    "language_info": {
      "name": "python"
    },
    "colab": {
      "provenance": []
    }
  },
  "nbformat": 4,
  "nbformat_minor": 0
}